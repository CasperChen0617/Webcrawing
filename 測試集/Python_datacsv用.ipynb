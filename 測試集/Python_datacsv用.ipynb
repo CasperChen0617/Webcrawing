{
 "cells": [
  {
   "cell_type": "code",
   "execution_count": 2,
   "metadata": {},
   "outputs": [],
   "source": [
    "import pandas as pd\n",
    "data = pd.read_csv('data.csv', index_col='Unnamed: 0', parse_dates=['buy_date', 'sell_date'])"
   ]
  },
  {
   "cell_type": "code",
   "execution_count": null,
   "metadata": {},
   "outputs": [],
   "source": [
    "from sklearn.model_selection import train_test_split\n",
    "\n",
    "# clear data 將爛資料去掉\n",
    "data.dropna(how='any', inplace=True)\n",
    "\n",
    "# 選擇2015年以後的資料作為回測用\n",
    "dbacktest = data[data['buy_date'] > '2015']\n",
    "\n",
    "# 將其於的資料再分成兩類：dtrain 跟 dtest\n",
    "dataTrainTest = data[data['sell_date'] < '2015']\n",
    "dtrain, dtest = train_test_split(dataTrainTest, test_size=0.10, random_state=42)\n",
    "\n",
    "# 設定我們的feature要用哪些\n",
    "features = data.columns[5:-1]"
   ]
  },
  {
   "cell_type": "code",
   "execution_count": null,
   "metadata": {},
   "outputs": [],
   "source": [
    "from sklearn.ensemble import RandomForestClassifier\n",
    "\n",
    "# 創建機器學習的model\n",
    "rf = RandomForestClassifier(n_estimators=10, criterion='gini', \n",
    "                            max_depth=None, min_samples_split=2, \n",
    "                            min_samples_leaf=1, min_weight_fraction_leaf=0.0, \n",
    "                            max_features='auto', max_leaf_nodes=None, \n",
    "                            bootstrap=True, oob_score=False, n_jobs=1, \n",
    "                            random_state=None, verbose=0, warm_start=False, \n",
    "                            class_weight=None)\n",
    "# 分類能獲利的股票\n",
    "rf.fit(dtrain[features], dtrain['獲利'] > 1)"
   ]
  },
  {
   "cell_type": "code",
   "execution_count": null,
   "metadata": {},
   "outputs": [],
   "source": [
    "result = rf.predict(dtest[features])\n",
    "\n",
    "print('test data')\n",
    "print('gain before filtered', dtest['獲利'].mean())\n",
    "print('gain after filtered', dtest['獲利'][result].mean())\n",
    "print('num stocks', sum(result), '/', len(dtest))\n",
    "\n",
    "result = rf.predict(dbacktest[features])\n",
    "\n",
    "print('backtest data')\n",
    "print('gain before filtered', dbacktest['獲利'].mean())\n",
    "print('gain after filtered', dbacktest['獲利'][result].mean())\n",
    "print('num stocks', sum(result), '/', len(dbacktest))"
   ]
  },
  {
   "cell_type": "code",
   "execution_count": null,
   "metadata": {},
   "outputs": [],
   "source": [
    "%matplotlib inline\n",
    "\n",
    "dbacktest['預測'] = pd.Series(result, index=dbacktest.index)\n",
    "dates = list(set(dbacktest['buy_date']))\n",
    "dates.sort()\n",
    "\n",
    "history = []\n",
    "for d in dates:\n",
    "    history.append(dbacktest[(dbacktest['buy_date'] == d) & (dbacktest['預測'])]['獲利'].mean())\n",
    "pd.Series(history, index=dates).cumprod().plot()"
   ]
  },
  {
   "cell_type": "code",
   "execution_count": null,
   "metadata": {},
   "outputs": [],
   "source": [
    "# feature engineering：將features做修正、刪除、normalize等\n",
    "# 篩選能獲利X%的股票\n",
    "# classification vs regression：可以兩種都試試看\n",
    "# 不同的model，可以試試SVM、NN、XGBoost等等\n",
    "# 不同的model都有可以調整超多參數來達到優化\n",
    "# 利用early stop 來預防overfitting。"
   ]
  }
 ],
 "metadata": {
  "kernelspec": {
   "display_name": "Python 3",
   "language": "python",
   "name": "python3"
  },
  "language_info": {
   "codemirror_mode": {
    "name": "ipython",
    "version": 3
   },
   "file_extension": ".py",
   "mimetype": "text/x-python",
   "name": "python",
   "nbconvert_exporter": "python",
   "pygments_lexer": "ipython3",
   "version": "3.8.2-final"
  }
 },
 "nbformat": 4,
 "nbformat_minor": 2
}