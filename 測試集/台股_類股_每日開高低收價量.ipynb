{
 "cells": [
  {
   "cell_type": "code",
   "execution_count": 13,
   "metadata": {
    "tags": []
   },
   "outputs": [],
   "source": [
    "import requests\n",
    "import datetime\n",
    "from io import StringIO\n",
    "import pandas as pd\n",
    "import numpy as np\n",
    "datestr = '20180131'\n",
    "# 下載股價\n",
    "r = requests.post('https://www.twse.com.tw/exchangeReport/MI_INDEX?response=csv&date=' + datestr + '&type=ALL')\n",
    "# res =requests.post('https://www.twse.com.tw/zh/page/trading/exchange/MI_INDEX.html')\n",
    "\n",
    "# print(r.text)\n"
   ]
  },
  {
   "cell_type": "code",
   "execution_count": 9,
   "metadata": {},
   "outputs": [],
   "source": [
    "# 整理資料，變成表格\n",
    "df = pd.read_csv(StringIO(r.text.replace(\"=\", \"\")), \n",
    "            header=[\"證券代號\" in l for l in r.text.split(\"\\n\")].index(True)-1)\n",
    "\n",
    "# 整理一些字串：\n",
    "df1 = df.apply(lambda s: pd.to_numeric(s.astype(str).str.replace(\",\", \"\").replace(\"+\", \"1\").replace(\"-\", \"-1\"), errors='coerce'))\n"
   ]
  },
  {
   "cell_type": "code",
   "execution_count": 12,
   "metadata": {
    "tags": []
   },
   "outputs": [
    {
     "output_type": "stream",
     "name": "stdout",
     "text": "\n"
    },
    {
     "output_type": "execute_result",
     "data": {
      "text/plain": "   證券代號     證券名稱       成交股數   成交筆數         成交金額    開盤價    最高價    最低價    收盤價  \\\n0  0050   元大台灣50  4,251,739  1,176  359,040,915  84.40  85.00  84.15  84.65   \n1  0051  元大中型100      7,500      3      243,040  32.39  32.39  32.39  32.39   \n2  0052     富邦科技      4,001      5      229,706  57.35  57.60  57.30  57.40   \n3  0053     元大電子          1      1           37     --     --     --     --   \n4  0054   元大台商50      2,001      3       48,904  24.44  24.44  24.44  24.44   \n\n  漲跌(+/-)  漲跌價差 最後揭示買價 最後揭示買量 最後揭示賣價 最後揭示賣量   本益比  Unnamed: 16  \n0       +  0.10  84.60     21  84.65     80  0.00          NaN  \n1       +  0.09  32.39     43  32.50      5  0.00          NaN  \n2       +  0.05  57.35      1  57.90      1  0.00          NaN  \n3          0.00  37.09     50  37.35      1  0.00          NaN  \n4       -  0.05  24.41     50  24.64      8  0.00          NaN  ",
      "text/html": "<div>\n<style scoped>\n    .dataframe tbody tr th:only-of-type {\n        vertical-align: middle;\n    }\n\n    .dataframe tbody tr th {\n        vertical-align: top;\n    }\n\n    .dataframe thead th {\n        text-align: right;\n    }\n</style>\n<table border=\"1\" class=\"dataframe\">\n  <thead>\n    <tr style=\"text-align: right;\">\n      <th></th>\n      <th>證券代號</th>\n      <th>證券名稱</th>\n      <th>成交股數</th>\n      <th>成交筆數</th>\n      <th>成交金額</th>\n      <th>開盤價</th>\n      <th>最高價</th>\n      <th>最低價</th>\n      <th>收盤價</th>\n      <th>漲跌(+/-)</th>\n      <th>漲跌價差</th>\n      <th>最後揭示買價</th>\n      <th>最後揭示買量</th>\n      <th>最後揭示賣價</th>\n      <th>最後揭示賣量</th>\n      <th>本益比</th>\n      <th>Unnamed: 16</th>\n    </tr>\n  </thead>\n  <tbody>\n    <tr>\n      <th>0</th>\n      <td>0050</td>\n      <td>元大台灣50</td>\n      <td>4,251,739</td>\n      <td>1,176</td>\n      <td>359,040,915</td>\n      <td>84.40</td>\n      <td>85.00</td>\n      <td>84.15</td>\n      <td>84.65</td>\n      <td>+</td>\n      <td>0.10</td>\n      <td>84.60</td>\n      <td>21</td>\n      <td>84.65</td>\n      <td>80</td>\n      <td>0.00</td>\n      <td>NaN</td>\n    </tr>\n    <tr>\n      <th>1</th>\n      <td>0051</td>\n      <td>元大中型100</td>\n      <td>7,500</td>\n      <td>3</td>\n      <td>243,040</td>\n      <td>32.39</td>\n      <td>32.39</td>\n      <td>32.39</td>\n      <td>32.39</td>\n      <td>+</td>\n      <td>0.09</td>\n      <td>32.39</td>\n      <td>43</td>\n      <td>32.50</td>\n      <td>5</td>\n      <td>0.00</td>\n      <td>NaN</td>\n    </tr>\n    <tr>\n      <th>2</th>\n      <td>0052</td>\n      <td>富邦科技</td>\n      <td>4,001</td>\n      <td>5</td>\n      <td>229,706</td>\n      <td>57.35</td>\n      <td>57.60</td>\n      <td>57.30</td>\n      <td>57.40</td>\n      <td>+</td>\n      <td>0.05</td>\n      <td>57.35</td>\n      <td>1</td>\n      <td>57.90</td>\n      <td>1</td>\n      <td>0.00</td>\n      <td>NaN</td>\n    </tr>\n    <tr>\n      <th>3</th>\n      <td>0053</td>\n      <td>元大電子</td>\n      <td>1</td>\n      <td>1</td>\n      <td>37</td>\n      <td>--</td>\n      <td>--</td>\n      <td>--</td>\n      <td>--</td>\n      <td></td>\n      <td>0.00</td>\n      <td>37.09</td>\n      <td>50</td>\n      <td>37.35</td>\n      <td>1</td>\n      <td>0.00</td>\n      <td>NaN</td>\n    </tr>\n    <tr>\n      <th>4</th>\n      <td>0054</td>\n      <td>元大台商50</td>\n      <td>2,001</td>\n      <td>3</td>\n      <td>48,904</td>\n      <td>24.44</td>\n      <td>24.44</td>\n      <td>24.44</td>\n      <td>24.44</td>\n      <td>-</td>\n      <td>0.05</td>\n      <td>24.41</td>\n      <td>50</td>\n      <td>24.64</td>\n      <td>8</td>\n      <td>0.00</td>\n      <td>NaN</td>\n    </tr>\n  </tbody>\n</table>\n</div>"
     },
     "metadata": {},
     "execution_count": 12
    }
   ],
   "source": [
    "print()\n",
    "df.head()"
   ]
  },
  {
   "cell_type": "code",
   "execution_count": 88,
   "metadata": {},
   "outputs": [
    {
     "output_type": "execute_result",
     "data": {
      "text/plain": "         證券代號        證券名稱       成交股數   成交筆數         成交金額    開盤價    最高價    最低價  \\\n0        0050      元大台灣50  4,251,739  1,176  359,040,915  84.40  85.00  84.15   \n4020   06462P   鴻海富邦98售01     70,000     18      180,860   2.64   2.64   2.37   \n4031   06463P  大立光富邦9A售01     70,000      4      181,600   2.68   2.68   2.50   \n4042   06464P  台光電亞東99售01     21,000      2       60,950   2.90   2.95   2.90   \n4048   064655  玉晶光台新73購01     15,000      1        1,050   0.07   0.07   0.07   \n...       ...         ...        ...    ...          ...    ...    ...    ...   \n13215    2597          潤弘     28,000     25    1,055,200  38.00  38.00  37.60   \n13124    2420          新巨    171,067    154    5,880,271  34.55  34.60  34.30   \n12792    1104          環泥    202,209    146    4,612,469  22.80  22.90  22.75   \n13269    2867         三商壽  1,819,892    588   29,144,872  16.05  16.10  15.95   \n13301    2936      客思達-KY     18,000     15      557,200  31.00  31.30  30.85   \n\n         收盤價 漲跌(+/-)  漲跌價差 最後揭示買價 最後揭示買量 最後揭示賣價 最後揭示賣量   本益比  Unnamed: 16  \n0      84.65       +  0.10  84.60     21  84.65     80  0.00          NaN  \n4020    2.39       -  0.11   2.42    499   2.43    499  0.00          NaN  \n4031    2.50       +  0.01   2.51    499   2.52    499  0.00          NaN  \n4042    2.95       +  0.18   2.72    499   2.73    499  0.00          NaN  \n4048    0.07       -  0.01   0.07     10   0.08     10  0.00          NaN  \n...      ...     ...   ...    ...    ...    ...    ...   ...          ...  \n13215  37.90          0.00  37.60     28  37.90      5  9.82          NaN  \n13124  34.55          0.00  34.45      3  34.55     23  9.87          NaN  \n12792  22.85          0.00  22.80     26  22.85     18  9.89          NaN  \n13269  16.00       -  0.15  16.00    321  16.05      1  9.94          NaN  \n13301  31.00       -  0.15  31.00      1  31.30      2  9.97          NaN  \n\n[4749 rows x 17 columns]",
      "text/html": "<div>\n<style scoped>\n    .dataframe tbody tr th:only-of-type {\n        vertical-align: middle;\n    }\n\n    .dataframe tbody tr th {\n        vertical-align: top;\n    }\n\n    .dataframe thead th {\n        text-align: right;\n    }\n</style>\n<table border=\"1\" class=\"dataframe\">\n  <thead>\n    <tr style=\"text-align: right;\">\n      <th></th>\n      <th>證券代號</th>\n      <th>證券名稱</th>\n      <th>成交股數</th>\n      <th>成交筆數</th>\n      <th>成交金額</th>\n      <th>開盤價</th>\n      <th>最高價</th>\n      <th>最低價</th>\n      <th>收盤價</th>\n      <th>漲跌(+/-)</th>\n      <th>漲跌價差</th>\n      <th>最後揭示買價</th>\n      <th>最後揭示買量</th>\n      <th>最後揭示賣價</th>\n      <th>最後揭示賣量</th>\n      <th>本益比</th>\n      <th>Unnamed: 16</th>\n    </tr>\n  </thead>\n  <tbody>\n    <tr>\n      <th>0</th>\n      <td>0050</td>\n      <td>元大台灣50</td>\n      <td>4,251,739</td>\n      <td>1,176</td>\n      <td>359,040,915</td>\n      <td>84.40</td>\n      <td>85.00</td>\n      <td>84.15</td>\n      <td>84.65</td>\n      <td>+</td>\n      <td>0.10</td>\n      <td>84.60</td>\n      <td>21</td>\n      <td>84.65</td>\n      <td>80</td>\n      <td>0.00</td>\n      <td>NaN</td>\n    </tr>\n    <tr>\n      <th>4020</th>\n      <td>06462P</td>\n      <td>鴻海富邦98售01</td>\n      <td>70,000</td>\n      <td>18</td>\n      <td>180,860</td>\n      <td>2.64</td>\n      <td>2.64</td>\n      <td>2.37</td>\n      <td>2.39</td>\n      <td>-</td>\n      <td>0.11</td>\n      <td>2.42</td>\n      <td>499</td>\n      <td>2.43</td>\n      <td>499</td>\n      <td>0.00</td>\n      <td>NaN</td>\n    </tr>\n    <tr>\n      <th>4031</th>\n      <td>06463P</td>\n      <td>大立光富邦9A售01</td>\n      <td>70,000</td>\n      <td>4</td>\n      <td>181,600</td>\n      <td>2.68</td>\n      <td>2.68</td>\n      <td>2.50</td>\n      <td>2.50</td>\n      <td>+</td>\n      <td>0.01</td>\n      <td>2.51</td>\n      <td>499</td>\n      <td>2.52</td>\n      <td>499</td>\n      <td>0.00</td>\n      <td>NaN</td>\n    </tr>\n    <tr>\n      <th>4042</th>\n      <td>06464P</td>\n      <td>台光電亞東99售01</td>\n      <td>21,000</td>\n      <td>2</td>\n      <td>60,950</td>\n      <td>2.90</td>\n      <td>2.95</td>\n      <td>2.90</td>\n      <td>2.95</td>\n      <td>+</td>\n      <td>0.18</td>\n      <td>2.72</td>\n      <td>499</td>\n      <td>2.73</td>\n      <td>499</td>\n      <td>0.00</td>\n      <td>NaN</td>\n    </tr>\n    <tr>\n      <th>4048</th>\n      <td>064655</td>\n      <td>玉晶光台新73購01</td>\n      <td>15,000</td>\n      <td>1</td>\n      <td>1,050</td>\n      <td>0.07</td>\n      <td>0.07</td>\n      <td>0.07</td>\n      <td>0.07</td>\n      <td>-</td>\n      <td>0.01</td>\n      <td>0.07</td>\n      <td>10</td>\n      <td>0.08</td>\n      <td>10</td>\n      <td>0.00</td>\n      <td>NaN</td>\n    </tr>\n    <tr>\n      <th>...</th>\n      <td>...</td>\n      <td>...</td>\n      <td>...</td>\n      <td>...</td>\n      <td>...</td>\n      <td>...</td>\n      <td>...</td>\n      <td>...</td>\n      <td>...</td>\n      <td>...</td>\n      <td>...</td>\n      <td>...</td>\n      <td>...</td>\n      <td>...</td>\n      <td>...</td>\n      <td>...</td>\n      <td>...</td>\n    </tr>\n    <tr>\n      <th>13215</th>\n      <td>2597</td>\n      <td>潤弘</td>\n      <td>28,000</td>\n      <td>25</td>\n      <td>1,055,200</td>\n      <td>38.00</td>\n      <td>38.00</td>\n      <td>37.60</td>\n      <td>37.90</td>\n      <td></td>\n      <td>0.00</td>\n      <td>37.60</td>\n      <td>28</td>\n      <td>37.90</td>\n      <td>5</td>\n      <td>9.82</td>\n      <td>NaN</td>\n    </tr>\n    <tr>\n      <th>13124</th>\n      <td>2420</td>\n      <td>新巨</td>\n      <td>171,067</td>\n      <td>154</td>\n      <td>5,880,271</td>\n      <td>34.55</td>\n      <td>34.60</td>\n      <td>34.30</td>\n      <td>34.55</td>\n      <td></td>\n      <td>0.00</td>\n      <td>34.45</td>\n      <td>3</td>\n      <td>34.55</td>\n      <td>23</td>\n      <td>9.87</td>\n      <td>NaN</td>\n    </tr>\n    <tr>\n      <th>12792</th>\n      <td>1104</td>\n      <td>環泥</td>\n      <td>202,209</td>\n      <td>146</td>\n      <td>4,612,469</td>\n      <td>22.80</td>\n      <td>22.90</td>\n      <td>22.75</td>\n      <td>22.85</td>\n      <td></td>\n      <td>0.00</td>\n      <td>22.80</td>\n      <td>26</td>\n      <td>22.85</td>\n      <td>18</td>\n      <td>9.89</td>\n      <td>NaN</td>\n    </tr>\n    <tr>\n      <th>13269</th>\n      <td>2867</td>\n      <td>三商壽</td>\n      <td>1,819,892</td>\n      <td>588</td>\n      <td>29,144,872</td>\n      <td>16.05</td>\n      <td>16.10</td>\n      <td>15.95</td>\n      <td>16.00</td>\n      <td>-</td>\n      <td>0.15</td>\n      <td>16.00</td>\n      <td>321</td>\n      <td>16.05</td>\n      <td>1</td>\n      <td>9.94</td>\n      <td>NaN</td>\n    </tr>\n    <tr>\n      <th>13301</th>\n      <td>2936</td>\n      <td>客思達-KY</td>\n      <td>18,000</td>\n      <td>15</td>\n      <td>557,200</td>\n      <td>31.00</td>\n      <td>31.30</td>\n      <td>30.85</td>\n      <td>31.00</td>\n      <td>-</td>\n      <td>0.15</td>\n      <td>31.00</td>\n      <td>1</td>\n      <td>31.30</td>\n      <td>2</td>\n      <td>9.97</td>\n      <td>NaN</td>\n    </tr>\n  </tbody>\n</table>\n<p>4749 rows × 17 columns</p>\n</div>"
     },
     "metadata": {},
     "execution_count": 88
    }
   ],
   "source": [
    "df[pd.to_numeric(df['本益比'], errors='coerce') < 15].sort_values('本益比')"
   ]
  }
 ],
 "metadata": {
  "kernelspec": {
   "display_name": "Python 3.8.2 64-bit ('stock': conda)",
   "language": "python",
   "name": "python38264bitstockcondaab16fade0ebc40bfbab3108099562eed"
  },
  "language_info": {
   "codemirror_mode": {
    "name": "ipython",
    "version": 3
   },
   "file_extension": ".py",
   "mimetype": "text/x-python",
   "name": "python",
   "nbconvert_exporter": "python",
   "pygments_lexer": "ipython3",
   "version": "3.8.2-final"
  }
 },
 "nbformat": 4,
 "nbformat_minor": 2
}