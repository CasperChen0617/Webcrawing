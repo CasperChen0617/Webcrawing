{
 "cells": [
  {
   "cell_type": "code",
   "execution_count": 2,
   "metadata": {},
   "outputs": [],
   "source": [
    "import requests\n",
    "import pandas as pd\n",
    "import datetime\n",
    "import time\n",
    "\"\"\"\n",
    "證交所個股日本益比、殖利率及股價淨值比(以個股月查詢) 實作\n",
    "http://www.twse.com.tw/zh/page/trading/exchange/BWIBBU.html\n",
    "\"\"\"\n",
    "\n",
    "# 發出 http request 請求\n",
    "def web(date,stock_number):\n",
    "    request_url = 'http://www.twse.com.tw/exchangeReport/BWIBBU?response=json&date={}&stockNo={}&_=1542243610772'.format(date, stock_number)\n",
    "    response = requests.get(request_url)\n",
    "    raw_data = response.json()\n",
    "    fields = raw_data['fields']\n",
    "    data = raw_data['data']\n",
    "    result = pd.DataFrame(data, columns=fields)\n",
    "    time.sleep(1.5)\n",
    "    return result"
   ]
  },
  {
   "cell_type": "code",
   "execution_count": 4,
   "metadata": {},
   "outputs": [],
   "source": [
    "stocknumber=4967"
   ]
  },
  {
   "cell_type": "code",
   "execution_count": 5,
   "metadata": {},
   "outputs": [
    {
     "output_type": "error",
     "ename": "KeyError",
     "evalue": "'fields'",
     "traceback": [
      "\u001b[1;31m---------------------------------------------------------------------------\u001b[0m",
      "\u001b[1;31mKeyError\u001b[0m                                  Traceback (most recent call last)",
      "\u001b[1;32m<ipython-input-5-333f662bb9c5>\u001b[0m in \u001b[0;36m<module>\u001b[1;34m\u001b[0m\n\u001b[0;32m      4\u001b[0m \u001b[0mdata\u001b[0m \u001b[1;33m=\u001b[0m \u001b[0mpd\u001b[0m\u001b[1;33m.\u001b[0m\u001b[0mDataFrame\u001b[0m\u001b[1;33m(\u001b[0m\u001b[1;33m)\u001b[0m\u001b[1;33m\u001b[0m\u001b[1;33m\u001b[0m\u001b[0m\n\u001b[0;32m      5\u001b[0m \u001b[1;32mwhile\u001b[0m \u001b[0mstardate\u001b[0m \u001b[1;33m<=\u001b[0m \u001b[0mnow\u001b[0m\u001b[1;33m:\u001b[0m\u001b[1;33m\u001b[0m\u001b[1;33m\u001b[0m\u001b[0m\n\u001b[1;32m----> 6\u001b[1;33m     \u001b[0mdata\u001b[0m \u001b[1;33m=\u001b[0m \u001b[0mdata\u001b[0m\u001b[1;33m.\u001b[0m\u001b[0mappend\u001b[0m\u001b[1;33m(\u001b[0m\u001b[0mweb\u001b[0m\u001b[1;33m(\u001b[0m\u001b[0mstardate\u001b[0m\u001b[1;33m,\u001b[0m\u001b[0mstocknumber\u001b[0m\u001b[1;33m)\u001b[0m\u001b[1;33m,\u001b[0m \u001b[0mignore_index\u001b[0m\u001b[1;33m=\u001b[0m\u001b[1;32mTrue\u001b[0m\u001b[1;33m)\u001b[0m\u001b[1;33m\u001b[0m\u001b[1;33m\u001b[0m\u001b[0m\n\u001b[0m\u001b[0;32m      7\u001b[0m     \u001b[0mstardate\u001b[0m\u001b[1;33m+=\u001b[0m\u001b[1;36m100\u001b[0m\u001b[1;33m\u001b[0m\u001b[1;33m\u001b[0m\u001b[0m\n\u001b[0;32m      8\u001b[0m     \u001b[1;32mif\u001b[0m\u001b[1;33m(\u001b[0m\u001b[0mstr\u001b[0m\u001b[1;33m(\u001b[0m\u001b[0mstardate\u001b[0m\u001b[1;33m)\u001b[0m\u001b[1;33m[\u001b[0m\u001b[1;36m4\u001b[0m\u001b[1;33m:\u001b[0m\u001b[1;36m6\u001b[0m\u001b[1;33m]\u001b[0m\u001b[1;33m==\u001b[0m\u001b[1;34m\"13\"\u001b[0m\u001b[1;33m)\u001b[0m\u001b[1;33m:\u001b[0m\u001b[1;33m\u001b[0m\u001b[1;33m\u001b[0m\u001b[0m\n",
      "\u001b[1;32m<ipython-input-2-ac500278ef90>\u001b[0m in \u001b[0;36mweb\u001b[1;34m(date, stock_number)\u001b[0m\n\u001b[0;32m     13\u001b[0m     \u001b[0mresponse\u001b[0m \u001b[1;33m=\u001b[0m \u001b[0mrequests\u001b[0m\u001b[1;33m.\u001b[0m\u001b[0mget\u001b[0m\u001b[1;33m(\u001b[0m\u001b[0mrequest_url\u001b[0m\u001b[1;33m)\u001b[0m\u001b[1;33m\u001b[0m\u001b[1;33m\u001b[0m\u001b[0m\n\u001b[0;32m     14\u001b[0m     \u001b[0mraw_data\u001b[0m \u001b[1;33m=\u001b[0m \u001b[0mresponse\u001b[0m\u001b[1;33m.\u001b[0m\u001b[0mjson\u001b[0m\u001b[1;33m(\u001b[0m\u001b[1;33m)\u001b[0m\u001b[1;33m\u001b[0m\u001b[1;33m\u001b[0m\u001b[0m\n\u001b[1;32m---> 15\u001b[1;33m     \u001b[0mfields\u001b[0m \u001b[1;33m=\u001b[0m \u001b[0mraw_data\u001b[0m\u001b[1;33m[\u001b[0m\u001b[1;34m'fields'\u001b[0m\u001b[1;33m]\u001b[0m\u001b[1;33m\u001b[0m\u001b[1;33m\u001b[0m\u001b[0m\n\u001b[0m\u001b[0;32m     16\u001b[0m     \u001b[0mdata\u001b[0m \u001b[1;33m=\u001b[0m \u001b[0mraw_data\u001b[0m\u001b[1;33m[\u001b[0m\u001b[1;34m'data'\u001b[0m\u001b[1;33m]\u001b[0m\u001b[1;33m\u001b[0m\u001b[1;33m\u001b[0m\u001b[0m\n\u001b[0;32m     17\u001b[0m     \u001b[0mresult\u001b[0m \u001b[1;33m=\u001b[0m \u001b[0mpd\u001b[0m\u001b[1;33m.\u001b[0m\u001b[0mDataFrame\u001b[0m\u001b[1;33m(\u001b[0m\u001b[0mdata\u001b[0m\u001b[1;33m,\u001b[0m \u001b[0mcolumns\u001b[0m\u001b[1;33m=\u001b[0m\u001b[0mfields\u001b[0m\u001b[1;33m)\u001b[0m\u001b[1;33m\u001b[0m\u001b[1;33m\u001b[0m\u001b[0m\n",
      "\u001b[1;31mKeyError\u001b[0m: 'fields'"
     ]
    }
   ],
   "source": [
    "year, month, day = datetime.datetime.strftime( datetime.datetime.now(), '%Y %m %d').split()\n",
    "now = int(datetime.datetime.strftime( datetime.datetime.now(), '%Y%m%d'))\n",
    "stardate=int(str(int(year)-5)+\"0101\")\n",
    "data = pd.DataFrame()\n",
    "while stardate <= now:\n",
    "    data = data.append(web(stardate,stocknumber), ignore_index=True)\n",
    "    stardate+=100\n",
    "    if(str(stardate)[4:6]==\"13\"):\n",
    "        stardate-=1200\n",
    "        stardate+=10000"
   ]
  },
  {
   "cell_type": "code",
   "execution_count": 6,
   "metadata": {},
   "outputs": [],
   "source": [
    "data.to_csv('./'+str(stocknumber)+'_PB+PE_Ratio.csv', encoding='utf_8_sig')"
   ]
  },
  {
   "cell_type": "code",
   "execution_count": 13,
   "metadata": {},
   "outputs": [
    {
     "output_type": "stream",
     "name": "stdout",
     "text": "20200519\n"
    }
   ],
   "source": [
    "# data = pd.DataFrame()\n",
    "# stocknumber=2330\n",
    "# stardate+=100\n",
    "# data = data.append(web(stardate,stocknumber))\n",
    "# print(data)\n",
    "# print(stardate)\n",
    "# print(stardate)\n",
    "# print(now)"
   ]
  },
  {
   "cell_type": "code",
   "execution_count": 9,
   "metadata": {},
   "outputs": [
    {
     "output_type": "stream",
     "name": "stdout",
     "text": "[['107年11月01日', '3.40', 106, '17.38', '4.10', '107/2'], ['107年11月02日', '3.38', 106, '17.45', '4.12', '107/2'], ['107年11月05日', '3.40', 106, '17.34', '4.09', '107/2'], ['107年11月06日', '3.41', 106, '17.31', '4.08', '107/2'], ['107年11月07日', '3.42', 106, '17.27', '4.07', '107/2'], ['107年11月08日', '3.38', 106, '17.45', '4.12', '107/2'], ['107年11月09日', '3.46', 106, '17.05', '4.02', '107/2'], ['107年11月12日', '3.46', 106, '17.08', '4.03', '107/2'], ['107年11月13日', '3.52', 106, '16.79', '3.96', '107/2'], ['107年11月14日', '3.50', 106, '16.90', '3.76', '107/3'], ['107年11月15日', '3.46', 106, '17.09', '3.80', '107/3'], ['107年11月16日', '3.54', 106, '16.72', '3.72', '107/3'], ['107年11月19日', '3.60', 106, '16.42', '3.65', '107/3'], ['107年11月20日', '3.67', 106, '16.12', '3.59', '107/3'], ['107年11月21日', '3.65', 106, '16.20', '3.60', '107/3'], ['107年11月22日', '3.65', 106, '16.20', '3.60', '107/3'], ['107年11月23日', '3.66', 106, '16.16', '3.60', '107/3'], ['107年11月26日', '3.59', 106, '16.49', '3.67', '107/3'], ['107年11月27日', '3.57', 106, '16.57', '3.69', '107/3'], ['107年11月28日', '3.53', 106, '16.75', '3.73', '107/3'], ['107年11月29日', '3.49', 106, '16.94', '3.77', '107/3'], ['107年11月30日', '3.55', 106, '16.68', '3.71', '107/3']]\n"
    }
   ],
   "source": [
    "# # 將取得 json 格式結果轉成 python dict 字典格式\n",
    "# raw_data = response.json()\n",
    "\n",
    "# # 取出標題\n",
    "# fields = raw_data['fields']\n",
    "\n",
    "# # 其中 data 這個 key 所對應的值為主要我們想要的 股日本益比、殖利率及股價淨值比 資料\n",
    "# data = raw_data['data']\n",
    "# print(data)\n",
    "\n",
    "# # 將資料轉換成 pandas DataFrame 格式，並使用取出的 fields 當作標題\n",
    "# result = pd.DataFrame(data, columns=fields)    \n",
    "# # print('result', result)\n",
    "\n",
    "# # 輸出成 .csv 檔案\n",
    "# result.to_csv('./stock.csv', encoding='utf_8_sig')"
   ]
  }
 ],
 "metadata": {
  "kernelspec": {
   "display_name": "Python 3.8.2 64-bit ('stock': conda)",
   "language": "python",
   "name": "python38264bitstockcondaab16fade0ebc40bfbab3108099562eed"
  },
  "language_info": {
   "codemirror_mode": {
    "name": "ipython",
    "version": 3
   },
   "file_extension": ".py",
   "mimetype": "text/x-python",
   "name": "python",
   "nbconvert_exporter": "python",
   "pygments_lexer": "ipython3",
   "version": "3.8.2-final"
  }
 },
 "nbformat": 4,
 "nbformat_minor": 2
}