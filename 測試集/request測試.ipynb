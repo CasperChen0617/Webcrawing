{
 "cells": [
  {
   "cell_type": "code",
   "execution_count": 13,
   "metadata": {
    "tags": []
   },
   "outputs": [
    {
     "output_type": "stream",
     "name": "stdout",
     "text": [
      "['VeryGoodBoy', 'wsp0323', 'rabbitu04', '-', 'fatotaku', 'Vedan', 'Vedan', 'Acetoxy', 'namie810303']\n[87, 29, 18, 5, 44, 2, 85, 65, 16]\n['[情報] 記者：湖人勇士的比賽預計將成為今年聖', '[討論] 為何不投票表決誰是歷史最佳就好？白紙', '[情報] 尼克傳出工作人員武漢肺炎確診', nan, 'Re: [情報] 太陽與雷霆開始討論交易CP3', '[公告] 板規v6.8', '[公告] 第一次被退文，可在三天後刪除退文', '[情報] Playoffs Schedule 19–20', '[公告] 季後賽條款於10/14零時解除']\n['11/11', '11/11', '11/11', '11/11', '11/11', ' 5/24', ' 3/09', ' 8/18', '10/13']\n"
     ]
    }
   ],
   "source": [
    "import numpy as np\n",
    "import requests as rq\n",
    "from bs4 import BeautifulSoup\n",
    "url = \"https://www.ptt.cc/bbs/NBA/index.html\" # PTT NBA 板\n",
    "response = rq.get(url) # 用 requests 的 get 方法把網頁抓下來\n",
    "html_doc = response.text # text 屬性就是 html 檔案\n",
    "soup = BeautifulSoup(response.text, \"lxml\") # 指定 lxml 作為解析器\n",
    "author_ids = [] # 建立一個空的 list 來放作者 id\n",
    "recommends = [] # 建立一個空的 list 來放推文數\n",
    "post_titles = [] # 建立一個空的 list 來放文章標題\n",
    "post_dates = [] # 建立一個空的 list 來放發文日期\n",
    "\n"
   ]
  },
  {
   "cell_type": "code",
   "execution_count": 26,
   "metadata": {
    "tags": []
   },
   "outputs": [
    {
     "output_type": "error",
     "ename": "Error",
     "evalue": "RuntimeError",
     "traceback": [
      "Error: RuntimeError",
      "at E.parseConnectInfo (c:\\Users\\Casper\\.vscode\\extensions\\ms-python.python-2020.10.332292344\\out\\client\\extension.js:56:424168)",
      "at E.connectToLocal (c:\\Users\\Casper\\.vscode\\extensions\\ms-python.python-2020.10.332292344\\out\\client\\extension.js:56:424771)",
      "at async E.connect (c:\\Users\\Casper\\.vscode\\extensions\\ms-python.python-2020.10.332292344\\out\\client\\extension.js:56:420346)",
      "at async E.startDebugSession (c:\\Users\\Casper\\.vscode\\extensions\\ms-python.python-2020.10.332292344\\out\\client\\extension.js:56:419346)",
      "at async f.submitCode (c:\\Users\\Casper\\.vscode\\extensions\\ms-python.python-2020.10.332292344\\out\\client\\extension.js:32:572760)",
      "at async f.handleRunByLine (c:\\Users\\Casper\\.vscode\\extensions\\ms-python.python-2020.10.332292344\\out\\client\\extension.js:17:124782)"
     ]
    }
   ],
   "source": [
    "# print(soup.find_all(\"div\", class_ = \"r-ent\"))\n",
    "print(soup.find(\"a\"))\n"
   ]
  },
  {
   "cell_type": "code",
   "execution_count": 29,
   "metadata": {},
   "outputs": [
    {
     "output_type": "stream",
     "name": "stdout",
     "text": [
      "['VeryGoodBoy', 'wsp0323', 'rabbitu04', '-', 'fatotaku', 'Vedan', 'Vedan', 'Acetoxy', 'namie810303', 'VeryGoodBoy', 'wsp0323', 'rabbitu04', '-', 'fatotaku', 'Vedan', 'Vedan', 'Acetoxy', 'namie810303']\n[87, 29, 18, 5, 44, 2, 85, 65, 16, 87, 29, 18, 5, 44, 2, 85, 65, 16]\n['[情報] 記者：湖人勇士的比賽預計將成為今年聖', '[討論] 為何不投票表決誰是歷史最佳就好？白紙', '[情報] 尼克傳出工作人員武漢肺炎確診', nan, 'Re: [情報] 太陽與雷霆開始討論交易CP3', '[公告] 板規v6.8', '[公告] 第一次被退文，可在三天後刪除退文', '[情報] Playoffs Schedule 19–20', '[公告] 季後賽條款於10/14零時解除', '[情報] 記者：湖人勇士的比賽預計將成為今年聖', '[討論] 為何不投票表決誰是歷史最佳就好？白紙', '[情報] 尼克傳出工作人員武漢肺炎確診', nan, 'Re: [情報] 太陽與雷霆開始討論交易CP3', '[公告] 板規v6.8', '[公告] 第一次被退文，可在三天後刪除退文', '[情報] Playoffs Schedule 19–20', '[公告] 季後賽條款於10/14零時解除']\n['11/11', '11/11', '11/11', '11/11', '11/11', ' 5/24', ' 3/09', ' 8/18', '10/13', '11/11', '11/11', '11/11', '11/11', '11/11', ' 5/24', ' 3/09', ' 8/18', '10/13']\n"
     ]
    }
   ],
   "source": [
    "posts = soup.find_all(\"div\", class_ = \"r-ent\")\n",
    "for post in posts:\n",
    "    try:\n",
    "        author_ids.append(post.find(\"div\", class_ = \"author\").string)    \n",
    "    except:\n",
    "        author_ids.append(np.nan)\n",
    "    try:\n",
    "        post_titles.append(post.find(\"a\").string)\n",
    "    except:\n",
    "        post_titles.append(np.nan)\n",
    "    try:\n",
    "        post_dates.append(post.find(\"div\", class_ = \"date\").string)\n",
    "    except:\n",
    "        post_dates.append(np.nan)\n",
    "\n",
    "# 推文數藏在 div 裡面的 span 所以分開處理\n",
    "recommendations = soup.find_all(\"div\", class_ = \"nrec\")\n",
    "for recommendation in recommendations:\n",
    "    try:\n",
    "        recommends.append(int(recommendation.find(\"span\").string))\n",
    "    except:\n",
    "        recommends.append(np.nan)\n",
    "print(author_ids)\n",
    "print(recommends)\n",
    "print(post_titles)\n",
    "print(post_dates)"
   ]
  }
 ],
 "metadata": {
  "kernelspec": {
   "display_name": "Python 3.8.2 64-bit ('stock': conda)",
   "language": "python",
   "name": "python38264bitstockcondaab16fade0ebc40bfbab3108099562eed"
  },
  "language_info": {
   "codemirror_mode": {
    "name": "ipython",
    "version": 3
   },
   "file_extension": ".py",
   "mimetype": "text/x-python",
   "name": "python",
   "nbconvert_exporter": "python",
   "pygments_lexer": "ipython3",
   "version": "3.8.2-final"
  }
 },
 "nbformat": 4,
 "nbformat_minor": 2
}