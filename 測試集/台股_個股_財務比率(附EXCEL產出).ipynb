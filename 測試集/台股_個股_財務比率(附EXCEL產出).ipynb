{
 "cells": [
  {
   "cell_type": "code",
   "execution_count": 209,
   "metadata": {},
   "outputs": [],
   "source": [
    "import requests\n",
    "import pandas as pd\n",
    "import numpy as np\n",
    "from io import StringIO\n",
    "\n",
    "\n",
    "def financial_statement(year, season, type='綜合損益彙總表'):\n",
    "\n",
    "    if year >= 1000:\n",
    "        year -= 1911\n",
    "\n",
    "    if type == '綜合損益彙總表':\n",
    "        url = 'https://mops.twse.com.tw/mops/web/t163sb04'\n",
    "    elif type == '資產負債彙總表':\n",
    "        url = 'https://mops.twse.com.tw/mops/web/t163sb05'\n",
    "    elif type == '營益分析彙總表':        \n",
    "        url = 'https://mops.twse.com.tw/mops/web/t163sb06'\n",
    "    else:\n",
    "        print('type does not match')\n",
    "\n",
    "    r = requests.post(url, {\n",
    "        'encodeURIComponent':1,\n",
    "        'step':1,\n",
    "        'firstin':1,\n",
    "        'off':1,\n",
    "        'TYPEK':'sii',\n",
    "        'year':str(year),\n",
    "        'season':str(season),\n",
    "    })\n",
    "\n",
    "    r.encoding = 'utf8'\n",
    "    dfs = pd.read_html(StringIO(r.text), header=None)\n",
    "    dfs=dfs[9]\n",
    "    dfs.columns=dfs.iloc[0,:]\n",
    "    dfs=dfs.iloc[1:,:]\n",
    "    return dfs\n",
    "    # return pd.concat(dfs[9], axis=0, sort=False).set_index(['公司代號']).apply(lambda s: pd.to_numeric(s, errors='ceorce'))"
   ]
  },
  {
   "cell_type": "code",
   "execution_count": 210,
   "metadata": {},
   "outputs": [
    {
     "output_type": "execute_result",
     "data": {
      "text/plain": "0    公司代號  公司名稱 營業收入(百萬元) 毛利率(%)(營業毛利)/(營業收入) 營業利益率(%)(營業利益)/(營業收入)  \\\n1    1101    台泥  24179.21               23.95                 19.23   \n2    1102    亞泥  16573.88               20.09                 16.13   \n3    1103    嘉泥    471.26               11.63                -10.75   \n4    1104    環泥   1166.10               11.88                  4.24   \n5    1108    幸福    832.71                2.47                 -4.15   \n..    ...   ...       ...                 ...                   ...   \n937  9944    新麗    811.74               22.70                  2.49   \n938  9945   潤泰新   3050.18               21.84                  8.90   \n939  9946  三發地產    300.23               32.95                 18.71   \n940  9955    佳龍    416.15               -3.65                -10.67   \n941  9958   世紀鋼    412.80               15.01                  6.30   \n\n0   稅前純益率(%)(稅前純益)/(營業收入) 稅後純益率(%)(稅後純益)/(營業收入)  \n1                   19.10                 11.85  \n2                   18.41                 14.57  \n3                   41.04                 33.99  \n4                    0.89                  0.20  \n5                   -3.71                 -0.74  \n..                    ...                   ...  \n937                  2.55                  1.75  \n938                101.04                 88.29  \n939                 17.31                 18.22  \n940                -11.93                -10.89  \n941                  2.04                  1.90  \n\n[941 rows x 7 columns]",
      "text/html": "<div>\n<style scoped>\n    .dataframe tbody tr th:only-of-type {\n        vertical-align: middle;\n    }\n\n    .dataframe tbody tr th {\n        vertical-align: top;\n    }\n\n    .dataframe thead th {\n        text-align: right;\n    }\n</style>\n<table border=\"1\" class=\"dataframe\">\n  <thead>\n    <tr style=\"text-align: right;\">\n      <th></th>\n      <th>公司代號</th>\n      <th>公司名稱</th>\n      <th>營業收入(百萬元)</th>\n      <th>毛利率(%)(營業毛利)/(營業收入)</th>\n      <th>營業利益率(%)(營業利益)/(營業收入)</th>\n      <th>稅前純益率(%)(稅前純益)/(營業收入)</th>\n      <th>稅後純益率(%)(稅後純益)/(營業收入)</th>\n    </tr>\n  </thead>\n  <tbody>\n    <tr>\n      <th>1</th>\n      <td>1101</td>\n      <td>台泥</td>\n      <td>24179.21</td>\n      <td>23.95</td>\n      <td>19.23</td>\n      <td>19.10</td>\n      <td>11.85</td>\n    </tr>\n    <tr>\n      <th>2</th>\n      <td>1102</td>\n      <td>亞泥</td>\n      <td>16573.88</td>\n      <td>20.09</td>\n      <td>16.13</td>\n      <td>18.41</td>\n      <td>14.57</td>\n    </tr>\n    <tr>\n      <th>3</th>\n      <td>1103</td>\n      <td>嘉泥</td>\n      <td>471.26</td>\n      <td>11.63</td>\n      <td>-10.75</td>\n      <td>41.04</td>\n      <td>33.99</td>\n    </tr>\n    <tr>\n      <th>4</th>\n      <td>1104</td>\n      <td>環泥</td>\n      <td>1166.10</td>\n      <td>11.88</td>\n      <td>4.24</td>\n      <td>0.89</td>\n      <td>0.20</td>\n    </tr>\n    <tr>\n      <th>5</th>\n      <td>1108</td>\n      <td>幸福</td>\n      <td>832.71</td>\n      <td>2.47</td>\n      <td>-4.15</td>\n      <td>-3.71</td>\n      <td>-0.74</td>\n    </tr>\n    <tr>\n      <th>...</th>\n      <td>...</td>\n      <td>...</td>\n      <td>...</td>\n      <td>...</td>\n      <td>...</td>\n      <td>...</td>\n      <td>...</td>\n    </tr>\n    <tr>\n      <th>937</th>\n      <td>9944</td>\n      <td>新麗</td>\n      <td>811.74</td>\n      <td>22.70</td>\n      <td>2.49</td>\n      <td>2.55</td>\n      <td>1.75</td>\n    </tr>\n    <tr>\n      <th>938</th>\n      <td>9945</td>\n      <td>潤泰新</td>\n      <td>3050.18</td>\n      <td>21.84</td>\n      <td>8.90</td>\n      <td>101.04</td>\n      <td>88.29</td>\n    </tr>\n    <tr>\n      <th>939</th>\n      <td>9946</td>\n      <td>三發地產</td>\n      <td>300.23</td>\n      <td>32.95</td>\n      <td>18.71</td>\n      <td>17.31</td>\n      <td>18.22</td>\n    </tr>\n    <tr>\n      <th>940</th>\n      <td>9955</td>\n      <td>佳龍</td>\n      <td>416.15</td>\n      <td>-3.65</td>\n      <td>-10.67</td>\n      <td>-11.93</td>\n      <td>-10.89</td>\n    </tr>\n    <tr>\n      <th>941</th>\n      <td>9958</td>\n      <td>世紀鋼</td>\n      <td>412.80</td>\n      <td>15.01</td>\n      <td>6.30</td>\n      <td>2.04</td>\n      <td>1.90</td>\n    </tr>\n  </tbody>\n</table>\n<p>941 rows × 7 columns</p>\n</div>"
     },
     "metadata": {},
     "execution_count": 210
    }
   ],
   "source": [
    "df=financial_statement(107,1,'營益分析彙總表')\n",
    "df"
   ]
  }
 ],
 "metadata": {
  "kernelspec": {
   "display_name": "Python 3.8.2 64-bit ('stock': conda)",
   "language": "python",
   "name": "python38264bitstockcondaab16fade0ebc40bfbab3108099562eed"
  },
  "language_info": {
   "codemirror_mode": {
    "name": "ipython",
    "version": 3
   },
   "file_extension": ".py",
   "mimetype": "text/x-python",
   "name": "python",
   "nbconvert_exporter": "python",
   "pygments_lexer": "ipython3",
   "version": "3.8.2-final"
  }
 },
 "nbformat": 4,
 "nbformat_minor": 2
}