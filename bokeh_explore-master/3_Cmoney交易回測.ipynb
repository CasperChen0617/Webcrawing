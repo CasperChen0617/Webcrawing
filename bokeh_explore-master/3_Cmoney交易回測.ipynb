{
 "cells": [
  {
   "cell_type": "code",
   "execution_count": 33,
   "metadata": {},
   "outputs": [
    {
     "name": "stdout",
     "output_type": "stream",
     "text": [
      "['aid=897394', 'aid=422468', 'aid=']\n",
      "accounts ['897394', '422468']\n",
      "current account 897394\n"
     ]
    }
   ],
   "source": [
    "from cmoneyVirtualAccount.stock import VirtualStockAccount, ProfitLossType\n",
    "# 登入\n",
    "vs = VirtualStockAccount('practicejoke0617@gmail.com', 'tony5664')"
   ]
  },
  {
   "cell_type": "code",
   "execution_count": 31,
   "metadata": {},
   "outputs": [],
   "source": [
    "# # 切換子帳號\n",
    "# vs.aid = '123456'"
   ]
  },
  {
   "cell_type": "code",
   "execution_count": 37,
   "metadata": {
    "scrolled": true
   },
   "outputs": [
    {
     "data": {
      "text/plain": [
       "{'AllAssets': '2,000,000',\n",
       " 'Funds': '2,000,000',\n",
       " 'InventoryValue': '0',\n",
       " 'Creditborrow': '0',\n",
       " 'Obtained': '0',\n",
       " 'Ratio': '0.00',\n",
       " 'MaintenanceRate': '0',\n",
       " 'HasMaintenanceRate': '1',\n",
       " 'ChartInfo': '{\"data\":[[\"現金資產\",2000000.0000,0,0]]}',\n",
       " 'StartTime': '2021 / 02 / 26',\n",
       " 'Ratiodata': '{\"data\":[]}',\n",
       " 'Punishment': '-0',\n",
       " 'CreditBorrowLimit': 1000000.0}"
      ]
     },
     "execution_count": 37,
     "metadata": {},
     "output_type": "execute_result"
    }
   ],
   "source": [
    "# ------ #\n",
    "# 查看帳戶\n",
    "# ------ # \n",
    "# 拿到某檔股票的資料：\n",
    "# vs.get_price('2330')\n",
    "# 查看目前帳戶持有的股票\n",
    "vs.status()\n",
    "# 查看現有資金\n",
    "vs.info()"
   ]
  },
  {
   "cell_type": "code",
   "execution_count": 43,
   "metadata": {},
   "outputs": [
    {
     "ename": "TypeError",
     "evalue": "buy() missing 1 required positional argument: 'quantity'",
     "output_type": "error",
     "traceback": [
      "\u001b[1;31m---------------------------------------------------------------------------\u001b[0m",
      "\u001b[1;31mTypeError\u001b[0m                                 Traceback (most recent call last)",
      "\u001b[1;32m<ipython-input-43-32d246fd7b74>\u001b[0m in \u001b[0;36m<module>\u001b[1;34m\u001b[0m\n\u001b[0;32m      4\u001b[0m \u001b[1;31m# 買一張台積電（強迫現價或開盤價買入）\u001b[0m\u001b[1;33m\u001b[0m\u001b[1;33m\u001b[0m\u001b[1;33m\u001b[0m\u001b[0m\n\u001b[0;32m      5\u001b[0m \u001b[0mvs\u001b[0m\u001b[1;33m.\u001b[0m\u001b[0mbuy\u001b[0m\u001b[1;33m(\u001b[0m\u001b[1;34m'2330'\u001b[0m\u001b[1;33m,\u001b[0m \u001b[1;36m1\u001b[0m\u001b[1;33m)\u001b[0m\u001b[1;33m\u001b[0m\u001b[1;33m\u001b[0m\u001b[0m\n\u001b[1;32m----> 6\u001b[1;33m \u001b[0mvs\u001b[0m\u001b[1;33m.\u001b[0m\u001b[0mbuy\u001b[0m\u001b[1;33m(\u001b[0m\u001b[1;33m{\u001b[0m\u001b[1;33m(\u001b[0m\u001b[1;34m'2330'\u001b[0m\u001b[1;33m,\u001b[0m\u001b[1;36m1\u001b[0m\u001b[1;33m)\u001b[0m\u001b[1;33m,\u001b[0m \u001b[1;33m(\u001b[0m\u001b[1;34m'2454'\u001b[0m\u001b[1;33m,\u001b[0m\u001b[1;36m1\u001b[0m\u001b[1;33m)\u001b[0m\u001b[1;33m}\u001b[0m\u001b[1;33m)\u001b[0m\u001b[1;33m\u001b[0m\u001b[1;33m\u001b[0m\u001b[0m\n\u001b[0m\u001b[0;32m      7\u001b[0m \u001b[1;31m# 賣出一張台積電（強迫現價或開盤賣出）\u001b[0m\u001b[1;33m\u001b[0m\u001b[1;33m\u001b[0m\u001b[1;33m\u001b[0m\u001b[0m\n\u001b[0;32m      8\u001b[0m \u001b[0mvs\u001b[0m\u001b[1;33m.\u001b[0m\u001b[0msell\u001b[0m\u001b[1;33m(\u001b[0m\u001b[1;34m'2330'\u001b[0m\u001b[1;33m,\u001b[0m \u001b[1;36m1\u001b[0m\u001b[1;33m)\u001b[0m\u001b[1;33m\u001b[0m\u001b[1;33m\u001b[0m\u001b[0m\n",
      "\u001b[1;31mTypeError\u001b[0m: buy() missing 1 required positional argument: 'quantity'"
     ]
    }
   ],
   "source": [
    "# ------ #\n",
    "# 操作帳戶\n",
    "# ------ # \n",
    "# 買一張台積電（強迫現價或開盤價買入）\n",
    "vs.buy('2330', 1)\n",
    "# 賣出一張台積電（強迫現價或開盤賣出）\n",
    "vs.sell('2330', 1)"
   ]
  },
  {
   "cell_type": "code",
   "execution_count": 45,
   "metadata": {},
   "outputs": [
    {
     "ename": "TypeError",
     "evalue": "buy() missing 1 required positional argument: 'quantity'",
     "output_type": "error",
     "traceback": [
      "\u001b[1;31m---------------------------------------------------------------------------\u001b[0m",
      "\u001b[1;31mTypeError\u001b[0m                                 Traceback (most recent call last)",
      "\u001b[1;32m<ipython-input-45-f28da6787bc6>\u001b[0m in \u001b[0;36m<module>\u001b[1;34m\u001b[0m\n\u001b[0;32m      3\u001b[0m \u001b[1;31m# ------ #\u001b[0m\u001b[1;33m\u001b[0m\u001b[1;33m\u001b[0m\u001b[1;33m\u001b[0m\u001b[0m\n\u001b[0;32m      4\u001b[0m \u001b[1;31m# 買一張台積電、一張聯發科\u001b[0m\u001b[1;33m\u001b[0m\u001b[1;33m\u001b[0m\u001b[1;33m\u001b[0m\u001b[0m\n\u001b[1;32m----> 5\u001b[1;33m \u001b[0mvs\u001b[0m\u001b[1;33m.\u001b[0m\u001b[0mbuy\u001b[0m\u001b[1;33m(\u001b[0m\u001b[1;33m{\u001b[0m\u001b[1;34m'2330'\u001b[0m\u001b[1;33m:\u001b[0m \u001b[1;36m1\u001b[0m\u001b[1;33m,\u001b[0m \u001b[1;34m'2454'\u001b[0m\u001b[1;33m:\u001b[0m \u001b[1;36m1\u001b[0m\u001b[1;33m}\u001b[0m\u001b[1;33m)\u001b[0m\u001b[1;33m\u001b[0m\u001b[1;33m\u001b[0m\u001b[0m\n\u001b[0m\u001b[0;32m      6\u001b[0m \u001b[1;31m# 出清所有股票\u001b[0m\u001b[1;33m\u001b[0m\u001b[1;33m\u001b[0m\u001b[1;33m\u001b[0m\u001b[0m\n\u001b[0;32m      7\u001b[0m \u001b[0mvs\u001b[0m\u001b[1;33m.\u001b[0m\u001b[0msell_all\u001b[0m\u001b[1;33m(\u001b[0m\u001b[1;33m)\u001b[0m\u001b[1;33m\u001b[0m\u001b[1;33m\u001b[0m\u001b[0m\n",
      "\u001b[1;31mTypeError\u001b[0m: buy() missing 1 required positional argument: 'quantity'"
     ]
    }
   ],
   "source": [
    "# ------ #\n",
    "# 批次操作\n",
    "# ------ # \n",
    "# 買一張台積電、一張聯發科\n",
    "vs.buy({'2330': 1, '2454': 1})\n",
    "# 出清所有股票\n",
    "vs.sell_all()\n",
    "# 將所有帳戶持股設定成：「一張台積電」、「一張聯發科」\n",
    "# （會先賣出股票，並且買「一張台積電」、「一張聯發科」)\n",
    "vs.rebalance({'2330': 1, '2454': 1})\n",
    "# 自動分配持股（平均分散總資產）（通常我會用這個）\n",
    "vs.sync(['1101', '2330'])"
   ]
  },
  {
   "cell_type": "code",
   "execution_count": 40,
   "metadata": {},
   "outputs": [
    {
     "name": "stdout",
     "output_type": "stream",
     "text": [
      "Cancel order 2330\n",
      "Cancel order 2330\n"
     ]
    }
   ],
   "source": [
    "# ------ #\n",
    "# 委託操作\n",
    "# ------ # \n",
    "# 查看目前的委託單\n",
    "vs.get_orders()\n",
    "# 刪除所有委託單\n",
    "vs.cancel_all_orders()"
   ]
  }
 ],
 "metadata": {
  "kernelspec": {
   "display_name": "Python 3",
   "language": "python",
   "name": "python3"
  },
  "language_info": {
   "codemirror_mode": {
    "name": "ipython",
    "version": 3
   },
   "file_extension": ".py",
   "mimetype": "text/x-python",
   "name": "python",
   "nbconvert_exporter": "python",
   "pygments_lexer": "ipython3",
   "version": "3.7.7"
  }
 },
 "nbformat": 4,
 "nbformat_minor": 2
}
