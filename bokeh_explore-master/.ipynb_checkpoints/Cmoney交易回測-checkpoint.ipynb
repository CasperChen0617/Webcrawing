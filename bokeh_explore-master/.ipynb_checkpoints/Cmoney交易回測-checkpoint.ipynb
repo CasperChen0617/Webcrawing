{
 "cells": [
  {
   "cell_type": "code",
   "execution_count": 31,
   "metadata": {},
   "outputs": [
    {
     "ename": "ModuleNotFoundError",
     "evalue": "No module named 'cmoney'",
     "output_type": "error",
     "traceback": [
      "\u001b[1;31m---------------------------------------------------------------------------\u001b[0m",
      "\u001b[1;31mModuleNotFoundError\u001b[0m                       Traceback (most recent call last)",
      "\u001b[1;32m<ipython-input-31-c554153ee358>\u001b[0m in \u001b[0;36m<module>\u001b[1;34m\u001b[0m\n\u001b[1;32m----> 1\u001b[1;33m \u001b[1;32mfrom\u001b[0m \u001b[0mcmoney\u001b[0m\u001b[1;33m.\u001b[0m\u001b[0mstock\u001b[0m \u001b[1;32mimport\u001b[0m \u001b[0mVirtualStockAccount\u001b[0m\u001b[1;33m\u001b[0m\u001b[1;33m\u001b[0m\u001b[0m\n\u001b[0m\u001b[0;32m      2\u001b[0m \u001b[1;33m\u001b[0m\u001b[0m\n\u001b[0;32m      3\u001b[0m \u001b[1;31m# 登入\u001b[0m\u001b[1;33m\u001b[0m\u001b[1;33m\u001b[0m\u001b[1;33m\u001b[0m\u001b[0m\n\u001b[0;32m      4\u001b[0m \u001b[0mvs\u001b[0m \u001b[1;33m=\u001b[0m \u001b[0mVirtualStockAccount\u001b[0m\u001b[1;33m(\u001b[0m\u001b[1;34m'your_account'\u001b[0m\u001b[1;33m,\u001b[0m \u001b[1;34m'your_password'\u001b[0m\u001b[1;33m)\u001b[0m\u001b[1;33m\u001b[0m\u001b[1;33m\u001b[0m\u001b[0m\n\u001b[0;32m      5\u001b[0m \u001b[1;33m\u001b[0m\u001b[0m\n",
      "\u001b[1;31mModuleNotFoundError\u001b[0m: No module named 'cmoney'"
     ]
    }
   ],
   "source": [
    "import stock\n",
    "\n",
    "# 登入\n",
    "vs = VirtualStockAccount('your_account', 'your_password')\n",
    "\n",
    "# 切換子帳號\n",
    "vs.aid = '123456'\n",
    "\n",
    "# ------ #\n",
    "# 查看帳戶\n",
    "# ------ # \n",
    "\n",
    "# 拿到某檔股票的資料：\n",
    "vs.get_price('2330')\n",
    "\n",
    "# 查看目前帳戶持有的股票\n",
    "vs.status()\n",
    "\n",
    "# 查看現有資金\n",
    "vs.info()\n",
    "\n",
    "# ------ #\n",
    "# 操作帳戶\n",
    "# ------ # \n",
    "\n",
    "# 買一張台積電（強迫現價或開盤價買入）\n",
    "vs.buy('2330', 1)\n",
    "\n",
    "\n",
    "# 賣出一張台積電（強迫現價或開盤賣出）\n",
    "vs.sell('2330', 1)\n",
    "\n",
    "# ------ #\n",
    "# 批次操作\n",
    "# ------ # \n",
    "\n",
    "# 買一張台積電、一張聯發科\n",
    "vs.buy({'2330': 1, '2454': 1})\n",
    "\n",
    "# 出清所有股票\n",
    "vs.sell_all()\n",
    "\n",
    "# 將所有帳戶持股設定成：「一張台積電」、「一張聯發科」\n",
    "# （會先賣出股票，並且買「一張台積電」、「一張聯發科」)\n",
    "vs.rebalance({'2330': 1, '2454': 1})\n",
    "\n",
    "# 自動分配持股（平均分散總資產）（通常我會用這個）\n",
    "vs.sync(['1101', '2330'])\n",
    "\n",
    "# ------ #\n",
    "# 委託操作\n",
    "# ------ # \n",
    "\n",
    "# 查看目前的委託單\n",
    "vs.get_orders()\n",
    "\n",
    "# 刪除所有委託單\n",
    "vs.cancel_all_orders()"
   ]
  }
 ],
 "metadata": {
  "kernelspec": {
   "display_name": "Python 3",
   "language": "python",
   "name": "python3"
  },
  "language_info": {
   "codemirror_mode": {
    "name": "ipython",
    "version": 3
   },
   "file_extension": ".py",
   "mimetype": "text/x-python",
   "name": "python",
   "nbconvert_exporter": "python",
   "pygments_lexer": "ipython3",
   "version": "3.7.7"
  }
 },
 "nbformat": 4,
 "nbformat_minor": 2
}
