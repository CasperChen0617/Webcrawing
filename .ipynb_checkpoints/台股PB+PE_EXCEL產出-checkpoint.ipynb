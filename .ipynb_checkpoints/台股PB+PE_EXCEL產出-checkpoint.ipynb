{
 "cells": [
  {
   "cell_type": "code",
   "execution_count": 2,
   "metadata": {},
   "outputs": [
    {
     "name": "stdout",
     "output_type": "stream",
     "text": [
      "[['107年11月01日', '3.40', 106, '17.38', '4.10', '107/2'], ['107年11月02日', '3.38', 106, '17.45', '4.12', '107/2'], ['107年11月05日', '3.40', 106, '17.34', '4.09', '107/2'], ['107年11月06日', '3.41', 106, '17.31', '4.08', '107/2'], ['107年11月07日', '3.42', 106, '17.27', '4.07', '107/2'], ['107年11月08日', '3.38', 106, '17.45', '4.12', '107/2'], ['107年11月09日', '3.46', 106, '17.05', '4.02', '107/2'], ['107年11月12日', '3.46', 106, '17.08', '4.03', '107/2'], ['107年11月13日', '3.52', 106, '16.79', '3.96', '107/2'], ['107年11月14日', '3.50', 106, '16.90', '3.76', '107/3'], ['107年11月15日', '3.46', 106, '17.09', '3.80', '107/3'], ['107年11月16日', '3.54', 106, '16.72', '3.72', '107/3'], ['107年11月19日', '3.60', 106, '16.42', '3.65', '107/3'], ['107年11月20日', '3.67', 106, '16.12', '3.59', '107/3'], ['107年11月21日', '3.65', 106, '16.20', '3.60', '107/3'], ['107年11月22日', '3.65', 106, '16.20', '3.60', '107/3'], ['107年11月23日', '3.66', 106, '16.16', '3.60', '107/3'], ['107年11月26日', '3.59', 106, '16.49', '3.67', '107/3'], ['107年11月27日', '3.57', 106, '16.57', '3.69', '107/3'], ['107年11月28日', '3.53', 106, '16.75', '3.73', '107/3'], ['107年11月29日', '3.49', 106, '16.94', '3.77', '107/3'], ['107年11月30日', '3.55', 106, '16.68', '3.71', '107/3']]\n",
      "result             日期 殖利率(%)  股利年度    本益比 股價淨值比  財報年/季\n",
      "0   107年11月01日   3.40   106  17.38  4.10  107/2\n",
      "1   107年11月02日   3.38   106  17.45  4.12  107/2\n",
      "2   107年11月05日   3.40   106  17.34  4.09  107/2\n",
      "3   107年11月06日   3.41   106  17.31  4.08  107/2\n",
      "4   107年11月07日   3.42   106  17.27  4.07  107/2\n",
      "5   107年11月08日   3.38   106  17.45  4.12  107/2\n",
      "6   107年11月09日   3.46   106  17.05  4.02  107/2\n",
      "7   107年11月12日   3.46   106  17.08  4.03  107/2\n",
      "8   107年11月13日   3.52   106  16.79  3.96  107/2\n",
      "9   107年11月14日   3.50   106  16.90  3.76  107/3\n",
      "10  107年11月15日   3.46   106  17.09  3.80  107/3\n",
      "11  107年11月16日   3.54   106  16.72  3.72  107/3\n",
      "12  107年11月19日   3.60   106  16.42  3.65  107/3\n",
      "13  107年11月20日   3.67   106  16.12  3.59  107/3\n",
      "14  107年11月21日   3.65   106  16.20  3.60  107/3\n",
      "15  107年11月22日   3.65   106  16.20  3.60  107/3\n",
      "16  107年11月23日   3.66   106  16.16  3.60  107/3\n",
      "17  107年11月26日   3.59   106  16.49  3.67  107/3\n",
      "18  107年11月27日   3.57   106  16.57  3.69  107/3\n",
      "19  107年11月28日   3.53   106  16.75  3.73  107/3\n",
      "20  107年11月29日   3.49   106  16.94  3.77  107/3\n",
      "21  107年11月30日   3.55   106  16.68  3.71  107/3\n"
     ]
    },
    {
     "ename": "PermissionError",
     "evalue": "[Errno 13] Permission denied: './stock.csv'",
     "output_type": "error",
     "traceback": [
      "\u001b[1;31m---------------------------------------------------------------------------\u001b[0m",
      "\u001b[1;31mPermissionError\u001b[0m                           Traceback (most recent call last)",
      "\u001b[1;32m<ipython-input-2-85355522c6d8>\u001b[0m in \u001b[0;36m<module>\u001b[1;34m\u001b[0m\n\u001b[0;32m     27\u001b[0m \u001b[1;33m\u001b[0m\u001b[0m\n\u001b[0;32m     28\u001b[0m \u001b[1;31m# 輸出成 .csv 檔案\u001b[0m\u001b[1;33m\u001b[0m\u001b[1;33m\u001b[0m\u001b[1;33m\u001b[0m\u001b[0m\n\u001b[1;32m---> 29\u001b[1;33m \u001b[0mresult\u001b[0m\u001b[1;33m.\u001b[0m\u001b[0mto_csv\u001b[0m\u001b[1;33m(\u001b[0m\u001b[1;34m'./stock.csv'\u001b[0m\u001b[1;33m,\u001b[0m \u001b[0mencoding\u001b[0m\u001b[1;33m=\u001b[0m\u001b[1;34m'utf_8_sig'\u001b[0m\u001b[1;33m)\u001b[0m\u001b[1;33m\u001b[0m\u001b[1;33m\u001b[0m\u001b[0m\n\u001b[0m",
      "\u001b[1;32m~\\.conda\\envs\\stock\\lib\\site-packages\\pandas\\core\\generic.py\u001b[0m in \u001b[0;36mto_csv\u001b[1;34m(self, path_or_buf, sep, na_rep, float_format, columns, header, index, index_label, mode, encoding, compression, quoting, quotechar, line_terminator, chunksize, date_format, doublequote, escapechar, decimal)\u001b[0m\n\u001b[0;32m   3202\u001b[0m             \u001b[0mdecimal\u001b[0m\u001b[1;33m=\u001b[0m\u001b[0mdecimal\u001b[0m\u001b[1;33m,\u001b[0m\u001b[1;33m\u001b[0m\u001b[1;33m\u001b[0m\u001b[0m\n\u001b[0;32m   3203\u001b[0m         )\n\u001b[1;32m-> 3204\u001b[1;33m         \u001b[0mformatter\u001b[0m\u001b[1;33m.\u001b[0m\u001b[0msave\u001b[0m\u001b[1;33m(\u001b[0m\u001b[1;33m)\u001b[0m\u001b[1;33m\u001b[0m\u001b[1;33m\u001b[0m\u001b[0m\n\u001b[0m\u001b[0;32m   3205\u001b[0m \u001b[1;33m\u001b[0m\u001b[0m\n\u001b[0;32m   3206\u001b[0m         \u001b[1;32mif\u001b[0m \u001b[0mpath_or_buf\u001b[0m \u001b[1;32mis\u001b[0m \u001b[1;32mNone\u001b[0m\u001b[1;33m:\u001b[0m\u001b[1;33m\u001b[0m\u001b[1;33m\u001b[0m\u001b[0m\n",
      "\u001b[1;32m~\\.conda\\envs\\stock\\lib\\site-packages\\pandas\\io\\formats\\csvs.py\u001b[0m in \u001b[0;36msave\u001b[1;34m(self)\u001b[0m\n\u001b[0;32m    182\u001b[0m             \u001b[0mclose\u001b[0m \u001b[1;33m=\u001b[0m \u001b[1;32mFalse\u001b[0m\u001b[1;33m\u001b[0m\u001b[1;33m\u001b[0m\u001b[0m\n\u001b[0;32m    183\u001b[0m         \u001b[1;32melse\u001b[0m\u001b[1;33m:\u001b[0m\u001b[1;33m\u001b[0m\u001b[1;33m\u001b[0m\u001b[0m\n\u001b[1;32m--> 184\u001b[1;33m             f, handles = get_handle(\n\u001b[0m\u001b[0;32m    185\u001b[0m                 \u001b[0mself\u001b[0m\u001b[1;33m.\u001b[0m\u001b[0mpath_or_buf\u001b[0m\u001b[1;33m,\u001b[0m\u001b[1;33m\u001b[0m\u001b[1;33m\u001b[0m\u001b[0m\n\u001b[0;32m    186\u001b[0m                 \u001b[0mself\u001b[0m\u001b[1;33m.\u001b[0m\u001b[0mmode\u001b[0m\u001b[1;33m,\u001b[0m\u001b[1;33m\u001b[0m\u001b[1;33m\u001b[0m\u001b[0m\n",
      "\u001b[1;32m~\\.conda\\envs\\stock\\lib\\site-packages\\pandas\\io\\common.py\u001b[0m in \u001b[0;36mget_handle\u001b[1;34m(path_or_buf, mode, encoding, compression, memory_map, is_text)\u001b[0m\n\u001b[0;32m    426\u001b[0m         \u001b[1;32mif\u001b[0m \u001b[0mencoding\u001b[0m\u001b[1;33m:\u001b[0m\u001b[1;33m\u001b[0m\u001b[1;33m\u001b[0m\u001b[0m\n\u001b[0;32m    427\u001b[0m             \u001b[1;31m# Encoding\u001b[0m\u001b[1;33m\u001b[0m\u001b[1;33m\u001b[0m\u001b[1;33m\u001b[0m\u001b[0m\n\u001b[1;32m--> 428\u001b[1;33m             \u001b[0mf\u001b[0m \u001b[1;33m=\u001b[0m \u001b[0mopen\u001b[0m\u001b[1;33m(\u001b[0m\u001b[0mpath_or_buf\u001b[0m\u001b[1;33m,\u001b[0m \u001b[0mmode\u001b[0m\u001b[1;33m,\u001b[0m \u001b[0mencoding\u001b[0m\u001b[1;33m=\u001b[0m\u001b[0mencoding\u001b[0m\u001b[1;33m,\u001b[0m \u001b[0mnewline\u001b[0m\u001b[1;33m=\u001b[0m\u001b[1;34m\"\"\u001b[0m\u001b[1;33m)\u001b[0m\u001b[1;33m\u001b[0m\u001b[1;33m\u001b[0m\u001b[0m\n\u001b[0m\u001b[0;32m    429\u001b[0m         \u001b[1;32melif\u001b[0m \u001b[0mis_text\u001b[0m\u001b[1;33m:\u001b[0m\u001b[1;33m\u001b[0m\u001b[1;33m\u001b[0m\u001b[0m\n\u001b[0;32m    430\u001b[0m             \u001b[1;31m# No explicit encoding\u001b[0m\u001b[1;33m\u001b[0m\u001b[1;33m\u001b[0m\u001b[1;33m\u001b[0m\u001b[0m\n",
      "\u001b[1;31mPermissionError\u001b[0m: [Errno 13] Permission denied: './stock.csv'"
     ]
    }
   ],
   "source": [
    "import requests\n",
    "import pandas as pd\n",
    "\n",
    "\"\"\"\n",
    "本範例根據證交所個股日本益比、殖利率及股價淨值比(以個股月查詢) 實作\n",
    "http://www.twse.com.tw/zh/page/trading/exchange/BWIBBU.html\n",
    "\"\"\"\n",
    "# 查詢時間\n",
    "date = '20181115'\n",
    "# 股票代號\n",
    "stock_number = '2330'\n",
    "# 發出 http request 請求\n",
    "request_url = 'http://www.twse.com.tw/exchangeReport/BWIBBU?response=json&date={}&stockNo={}&_=1542243610772'.format(date, stock_number)\n",
    "response = requests.get(request_url)\n",
    "\n",
    "# 將取得 json 格式結果轉成 python dict 字典格式\n",
    "raw_data = response.json()\n",
    "# 取出標題\n",
    "fields = raw_data['fields']\n",
    "# 其中 data 這個 key 所對應的值為主要我們想要的 股日本益比、殖利率及股價淨值比 資料\n",
    "data = raw_data['data']\n",
    "print(data)\n",
    "\n",
    "# 將資料轉換成 pandas DataFrame 格式，並使用取出的 fields 當作標題\n",
    "result = pd.DataFrame(data, columns=fields)    \n",
    "print('result', result)\n",
    "\n",
    "# 輸出成 .csv 檔案\n",
    "result.to_csv('./stock.csv', encoding='utf_8_sig')"
   ]
  }
 ],
 "metadata": {
  "kernelspec": {
   "display_name": "Python 3.8.2 64-bit ('stock': conda)",
   "language": "python",
   "name": "python38264bitstockcondaab16fade0ebc40bfbab3108099562eed"
  },
  "language_info": {
   "codemirror_mode": {
    "name": "ipython",
    "version": 3
   },
   "file_extension": ".py",
   "mimetype": "text/x-python",
   "name": "python",
   "nbconvert_exporter": "python",
   "pygments_lexer": "ipython3",
   "version": "3.8.2"
  }
 },
 "nbformat": 4,
 "nbformat_minor": 2
}
